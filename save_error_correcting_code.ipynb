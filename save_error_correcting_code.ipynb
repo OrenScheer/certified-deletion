{
 "cells": [
  {
   "cell_type": "code",
   "execution_count": null,
   "metadata": {},
   "outputs": [],
   "source": [
    "from typing import Dict, List\n",
    "from utils import multiply_bit_string_with_matrix\n",
    "import json\n",
    "import shutil"
   ]
  },
  {
   "cell_type": "code",
   "execution_count": null,
   "metadata": {},
   "outputs": [],
   "source": [
    "def process_matrix_string(inp: str) -> List[List[int]]:\n",
    "    \"\"\"Takes as input a matrix without commas (from SageMath), and returns the Python matrix.\"\"\"\n",
    "    i = 0\n",
    "    built = \"\"\n",
    "    while i < len(inp):\n",
    "        built += inp[i]\n",
    "        if (inp[i] == \"1\" or inp[i] == \"0\") and (i < len(inp) and inp[i+1] != \"]\"):\n",
    "            built += \",\"\n",
    "        if inp[i] == \"]\" and not i == len(inp) - 2:\n",
    "            built += \",\"\n",
    "        i += 1\n",
    "    return eval(f\"[{built}]\".replace(\"\\n\", \"\"))"
   ]
  },
  {
   "cell_type": "code",
   "execution_count": null,
   "metadata": {},
   "outputs": [],
   "source": [
    "parity_check_matrix = process_matrix_string('''\n",
    "[1 0 1 0 1 0 1 0 1 0 1 0 1 0 1]\n",
    "[0 1 1 0 0 1 1 0 0 1 1 0 0 1 1]\n",
    "[0 0 0 1 1 1 1 0 0 0 0 1 1 1 1]\n",
    "[0 0 0 0 0 0 0 1 1 1 1 1 1 1 1]\n",
    "''')"
   ]
  },
  {
   "cell_type": "code",
   "execution_count": null,
   "metadata": {},
   "outputs": [],
   "source": [
    "def kbits(n, k):\n",
    "    # From https://stackoverflow.com/questions/58069431/find-all-binary-strings-of-certain-weight-has-fast-as-possible\n",
    "    limit = 1 << n\n",
    "    val = (1 << k)-1\n",
    "    while val < limit:\n",
    "        yield \"{0:0{1}b}\".format(val, n)\n",
    "        minbit = val & -val  # rightmost 1 bit\n",
    "        fillbit = (val+minbit) & ~val  # rightmost 0 to the left of that bit\n",
    "        val = val+minbit | (fillbit//(minbit << 1))-1\n",
    "\n",
    "\n",
    "def build_decoding_lookup_table(codeword_length: int, max_error_string_weight: int) -> Dict[str, str]:\n",
    "    table = {}\n",
    "    table[\"0\"*len(parity_check_matrix)] = \"0\" * codeword_length\n",
    "    for weight in range(1, max_error_string_weight + 1):\n",
    "        for error_string in kbits(codeword_length, weight):\n",
    "            xH_transpose = multiply_bit_string_with_matrix(\n",
    "                error_string, H_transpose)\n",
    "            table[xH_transpose] = error_string\n",
    "    return table"
   ]
  },
  {
   "cell_type": "code",
   "execution_count": null,
   "metadata": {},
   "outputs": [],
   "source": [
    "H_transpose = [[row[j] for row in parity_check_matrix]\n",
    "               for j in range(len(parity_check_matrix[0]))]\n",
    "decoding_lookup_table = build_decoding_lookup_table(\n",
    "    len(parity_check_matrix[0]), 1)"
   ]
  },
  {
   "cell_type": "code",
   "execution_count": null,
   "metadata": {},
   "outputs": [],
   "source": [
    "code_name = \"hamming_4\"\n",
    "\n",
    "with open(f\"error_correcting_codes/{code_name}_parity_check_matrix.txt\", \"w\") as f:\n",
    "    json.dump(parity_check_matrix, f)\n",
    "\n",
    "with open(f\"error_correcting_codes/{code_name}_table.txt\", \"w\") as f:\n",
    "    json.dump(decoding_lookup_table, f)\n",
    "\n",
    "shutil.make_archive(\"error_correcting_codes\", \"zip\", \"error_correcting_codes\");"
   ]
  }
 ],
 "metadata": {
  "kernelspec": {
   "display_name": "Python 3.10.4 ('certified-deletion')",
   "language": "python",
   "name": "python3"
  },
  "language_info": {
   "codemirror_mode": {
    "name": "ipython",
    "version": 3
   },
   "file_extension": ".py",
   "mimetype": "text/x-python",
   "name": "python",
   "nbconvert_exporter": "python",
   "pygments_lexer": "ipython3",
   "version": "3.10.4"
  },
  "orig_nbformat": 4,
  "vscode": {
   "interpreter": {
    "hash": "d73f75a98925c8700cb62ecdae3288d1b3431cce6c7bd46de19d5c767ee33bae"
   }
  }
 },
 "nbformat": 4,
 "nbformat_minor": 2
}
