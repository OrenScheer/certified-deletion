{
 "cells": [
  {
   "cell_type": "code",
   "execution_count": 1,
   "metadata": {},
   "outputs": [],
   "source": [
    "from qiskit import QuantumCircuit, transpile, execute, IBMQ\n",
    "from states import Key\n",
    "from global_parameters import GlobalParameters\n",
    "from encryption_circuit import encrypt\n",
    "from decryption_circuit import create_decryption_circuit\n",
    "from deletion_circuit import delete\n",
    "from attack_circuit import breidbart_measurement\n",
    "from qiskit.providers.aer import AerSimulator\n",
    "from qiskit.test.mock import FakeMontreal\n",
    "from qiskit.circuit import qpy_serialization\n",
    "from utils import export_counts, random_bit_string\n",
    "import os\n",
    "import shutil\n",
    "import json\n",
    "from datetime import datetime\n",
    "import experiment"
   ]
  },
  {
   "cell_type": "code",
   "execution_count": 2,
   "metadata": {},
   "outputs": [],
   "source": [
    "# Experiment parameters\n",
    "experiment_id = \"exp2\"\n",
    "execution_datetime = datetime.now()\n",
    "system_string = \"AerSimulator\"\n",
    "\n",
    "# Qiskit parameters\n",
    "provider = IBMQ.load_account()\n",
    "\n",
    "# Ideal simulator\n",
    "backend = AerSimulator()\n",
    "\n",
    "# Simulator with noise model\n",
    "# noise_model = FakeMontreal()\n",
    "# backend = AerSimulator.from_backend(noise_model)\n",
    "\n",
    "# Real backend\n",
    "# backend = provider.get_backend(\"ibm_nairobi\")\n",
    "\n",
    "optimization_level = 0\n",
    "shots = 1000\n",
    "\n",
    "folder_path = f\"data/{experiment_id}\"\n",
    "\n",
    "if not os.path.exists(\"data\"):\n",
    "    os.mkdir(\"data\")\n",
    "if not os.path.exists(folder_path):\n",
    "    os.mkdir(folder_path)"
   ]
  },
  {
   "cell_type": "code",
   "execution_count": 3,
   "metadata": {},
   "outputs": [],
   "source": [
    "def run_and_measure(circuit: QuantumCircuit, draw: bool = False) -> dict[str, int]:\n",
    "    \"\"\"Transpiles and runs the QuantumCircuit, and returns the resulting counts of the execution.\"\"\"\n",
    "    if draw:\n",
    "        print(circuit.draw())\n",
    "    transpiled_circuit = transpile(\n",
    "        circuit, backend=backend, optimization_level=optimization_level)\n",
    "    if draw:\n",
    "        print(transpiled_circuit.draw())\n",
    "    result = backend.run(transpiled_circuit, shots=shots).result()\n",
    "    counts = result.get_counts()\n",
    "    # Reverse the string since the most significant qubit is at the 0th index of the measurement string\n",
    "    reversed_keys_dict = {}\n",
    "    for key, value in counts.items():\n",
    "        reversed_keys_dict[key[::-1]] = value\n",
    "    return reversed_keys_dict"
   ]
  },
  {
   "cell_type": "code",
   "execution_count": 4,
   "metadata": {},
   "outputs": [],
   "source": [
    "# Encrypt \n",
    "global_params = GlobalParameters.generate_from_lambda(1)\n",
    "key = Key.generate_key(global_params)\n",
    "message = random_bit_string(global_params.n)\n",
    "ciphertext = encrypt(message, key, global_params)\n",
    "original_circuit = ciphertext.circuit.copy() # We might modify this circuit in subsequent steps\n",
    "\n",
    "# Write states to files\n",
    "with open(f\"{folder_path}/{experiment.experiment_attributes_filename}\", \"w\") as f:\n",
    "    f.write(json.dumps({\n",
    "        \"experiment_id\": experiment_id, \n",
    "        \"execution_datetime\": execution_datetime.isoformat(),\n",
    "        \"execution_shots\": shots,\n",
    "        \"backend_system\": system_string,\n",
    "        \"folder_path\": folder_path,\n",
    "    }))\n",
    "\n",
    "with open(f\"{folder_path}/{experiment.parameters_filename}\", \"w\") as f:\n",
    "    f.write(global_params.to_json())\n",
    "\n",
    "with open(f\"{folder_path}/{experiment.key_filename}\", \"w\") as f:\n",
    "    f.write(key.to_json())\n",
    "\n",
    "with open(f\"{folder_path}/{experiment.ciphertext_filename}\", \"w\") as f:\n",
    "    f.write(ciphertext.to_json())\n",
    "\n",
    "with open(f\"{folder_path}/{experiment.message_filename}\", \"w\") as f:\n",
    "    f.write(message)\n",
    "\n",
    "with open (f\"{folder_path}/{experiment.circuit_filename}\", \"wb\") as f:\n",
    "    qpy_serialization.dump(original_circuit, f)"
   ]
  },
  {
   "cell_type": "code",
   "execution_count": 5,
   "metadata": {},
   "outputs": [],
   "source": [
    "# Test 1 - honest delete\n",
    "deletion_circuit_test1 = delete(ciphertext)\n",
    "deletion_counts_test1 = run_and_measure(deletion_circuit_test1)\n",
    "export_counts(deletion_counts_test1, csv_filename=f\"{folder_path}/{experiment.test1_filename}\", key_label=\"Deletion measurement\")\n",
    "\n",
    "ciphertext.circuit = original_circuit.copy() # To make it easier to re-run cells"
   ]
  },
  {
   "cell_type": "code",
   "execution_count": 6,
   "metadata": {},
   "outputs": [],
   "source": [
    "# Test 2 - decrypt\n",
    "decryption_circuit_test2 = create_decryption_circuit(key, ciphertext)\n",
    "decryption_counts_test2 = run_and_measure(decryption_circuit_test2)\n",
    "\n",
    "export_counts(decryption_counts_test2, csv_filename=f\"{folder_path}/{experiment.test2_filename}\", key_label=\"Decryption measurement\")\n",
    "\n",
    "ciphertext.circuit = original_circuit.copy() # To make it easier to re-run cells"
   ]
  },
  {
   "cell_type": "code",
   "execution_count": 7,
   "metadata": {},
   "outputs": [],
   "source": [
    "# Test 3 - honest delete and then decrypt\n",
    "deletion_circuit_test3 = delete(ciphertext)\n",
    "ciphertext.circuit = deletion_circuit_test3 # To use the new circuit as the starting point of the decryption_measurement circuit\n",
    "decryption_circuit_test3 = create_decryption_circuit(key, ciphertext)\n",
    "raw_counts_test3 = run_and_measure(decryption_circuit_test3)\n",
    "\n",
    "export_counts(raw_counts_test3, csv_filename=f\"{folder_path}/{experiment.test3_filename}\", key_label=\"Measurement\")\n",
    "\n",
    "ciphertext.circuit = original_circuit.copy() # To make it easier to re-run cells"
   ]
  },
  {
   "cell_type": "code",
   "execution_count": 8,
   "metadata": {},
   "outputs": [],
   "source": [
    "# Test 4 - malicious delete and then decrypt\n",
    "deletion_circuit_test4 = breidbart_measurement(ciphertext)\n",
    "ciphertext.circuit = deletion_circuit_test4 # To use the new circuit as the starting point of the decryption_measurement circuit\n",
    "decryption_circuit_test4 = create_decryption_circuit(key, ciphertext)\n",
    "raw_counts_test4 = run_and_measure(decryption_circuit_test4)\n",
    "\n",
    "export_counts(raw_counts_test4, csv_filename=f\"{folder_path}/{experiment.test4_filename}\", key_label=\"Measurement\")\n",
    "\n",
    "ciphertext.circuit = original_circuit.copy() # To make it easier to re-run cells"
   ]
  },
  {
   "cell_type": "code",
   "execution_count": 9,
   "metadata": {},
   "outputs": [],
   "source": [
    "# Create zip file\n",
    "shutil.make_archive(\"data_export\", \"zip\", \"data\");"
   ]
  }
 ],
 "metadata": {
  "interpreter": {
   "hash": "d73f75a98925c8700cb62ecdae3288d1b3431cce6c7bd46de19d5c767ee33bae"
  },
  "kernelspec": {
   "display_name": "Python 3.10.4 ('certified-deletion')",
   "language": "python",
   "name": "python3"
  },
  "language_info": {
   "codemirror_mode": {
    "name": "ipython",
    "version": 3
   },
   "file_extension": ".py",
   "mimetype": "text/x-python",
   "name": "python",
   "nbconvert_exporter": "python",
   "pygments_lexer": "ipython3",
   "version": "3.10.4"
  }
 },
 "nbformat": 4,
 "nbformat_minor": 2
}
