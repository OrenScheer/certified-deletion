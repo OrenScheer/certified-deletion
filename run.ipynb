{
    "cells": [
        {
            "cell_type": "code",
            "execution_count": null,
            "metadata": {},
            "outputs": [],
            "source": [
                "from qiskit import QuantumCircuit, transpile, IBMQ\n",
                "from qiskit.circuit import Delay\n",
                "from states import Key\n",
                "from scheme_parameters import SchemeParameters\n",
                "from encryption_circuit import encrypt\n",
                "from decryption_circuit import create_decryption_circuit\n",
                "from deletion_circuit import delete\n",
                "from attack_circuit import breidbart_measure\n",
                "from qiskit.providers.aer import AerSimulator\n",
                "from qiskit.providers.fake_provider import FakeMontreal\n",
                "from utils import random_bit_string\n",
                "import shutil\n",
                "from datetime import datetime\n",
                "import experiment\n",
                "from typing import List, cast\n",
                "from collections import Counter"
            ]
        },
        {
            "cell_type": "code",
            "execution_count": null,
            "metadata": {},
            "outputs": [],
            "source": [
                "# Experiment parameters\n",
                "execution_datetime = datetime.now()\n",
                "# experiment_id = f\"cmc-3-{execution_datetime}\".replace(\":\", \"-\").replace(\".\", \"_\")\n",
                "experiment_id = \"oslo-opt-2-again\"\n",
                "system_string = \"Fake Montreal\" # Or insert other system name here\n",
                "microsecond_delay = 0 # Delay between preparing the qubits and the first measurement, whether deletion or decryption\n",
                "folder_prefix = \"data\"\n",
                "folder_path = f\"{folder_prefix}/{experiment_id}\"\n",
                "circuits_to_save = [] # We will save all the circuits to serialize\n",
                "\n",
                "# Backend parameters\n",
                "provider = IBMQ.load_account()\n",
                "\n",
                "# Ideal simulator\n",
                "# backend = AerSimulator()\n",
                "\n",
                "# Simulator with noise model\n",
                "noise_model = FakeMontreal()\n",
                "backend = AerSimulator.from_backend(noise_model)\n",
                "\n",
                "# Real backend\n",
                "backend = provider.get_backend(\"ibm_oslo\")\n",
                "\n",
                "# Qiskit parameters\n",
                "optimization_level = 2\n",
                "shots = 1000\n",
                "qubits_per_circuit = 7"
            ]
        },
        {
            "cell_type": "code",
            "execution_count": null,
            "metadata": {},
            "outputs": [],
            "source": [
                "def run_circuit_blocks(circuits: List[QuantumCircuit]) -> Counter:\n",
                "    transpiled_circuits = transpile(circuits, backend=backend, optimization_level=optimization_level,\n",
                "                                    scheduling_method=\"alap\" if microsecond_delay > 0 else None) # type: ignore\n",
                "    transpiled_circuits = cast(List[QuantumCircuit], transpiled_circuits)\n",
                "    result = backend.run(transpiled_circuits, shots=shots, memory=True).result()\n",
                "    shot_list = []\n",
                "    for shot in range(shots):\n",
                "        shot_list.append(\"\".join(result.get_memory(i)[shot][::-1] for i in range(len(circuits))))\n",
                "    circuits_to_save.extend([circuits, transpiled_circuits])\n",
                "    return Counter(shot_list)"
            ]
        },
        {
            "cell_type": "code",
            "execution_count": null,
            "metadata": {},
            "outputs": [],
            "source": [
                "# Encrypt from new states\n",
                "scheme_params = SchemeParameters.generate_from_lambda(1)\n",
                "key = Key.generate_key(scheme_params)\n",
                "message = random_bit_string(scheme_params.n)\n",
                "ciphertext = encrypt(message, key, scheme_params, qubits_per_circuit)\n",
                "if microsecond_delay > 0:\n",
                "    for circuit in ciphertext.circuits:\n",
                "        circuit.delay(microsecond_delay, range(circuit.num_qubits), unit=\"us\")\n",
                "original_circuits = [circuit.copy() for circuit in ciphertext.circuits] # We might modify these circuits in subsequent steps\n",
                "circuits_to_save.append(original_circuits)"
            ]
        },
        {
            "cell_type": "code",
            "execution_count": null,
            "metadata": {},
            "outputs": [],
            "source": [
                "# Encrypt from existing states\n",
                "# old_experiment = experiment.Experiment.reconstruct_experiment_from_folder(\"data/block-encoding-oslo\")\n",
                "# scheme_params = old_experiment.parameters\n",
                "# key = old_experiment.key\n",
                "# message = old_experiment.message\n",
                "# ciphertext = old_experiment.ciphertext\n",
                "# for circuit in ciphertext.circuits:\n",
                "#     circuit.data = [instruction for instruction in circuit.data if not isinstance(instruction[0], Delay)]\n",
                "#     if microsecond_delay > 0:\n",
                "#         circuit.delay(microsecond_delay, range(circuit.num_qubits), unit=\"us\")\n",
                "# original_circuits = [circuit.copy() for circuit in ciphertext.circuits] # We might modify these circuits in subsequent steps\n",
                "# circuits_to_save.append(original_circuits)"
            ]
        },
        {
            "cell_type": "code",
            "execution_count": null,
            "metadata": {},
            "outputs": [],
            "source": [
                "# Test 1 - honest delete\n",
                "deletion_circuit_test1 = delete(ciphertext)\n",
                "deletion_counts_test1 = run_circuit_blocks(deletion_circuit_test1)\n",
                "\n",
                "ciphertext.circuits = [circuit.copy() for circuit in original_circuits]"
            ]
        },
        {
            "cell_type": "code",
            "execution_count": null,
            "metadata": {},
            "outputs": [],
            "source": [
                "# Test 2 - decrypt\n",
                "decryption_circuit_test2 = create_decryption_circuit(key, ciphertext)\n",
                "decryption_counts_test2 = run_circuit_blocks(decryption_circuit_test2)\n",
                "\n",
                "ciphertext.circuits = [circuit.copy() for circuit in original_circuits]"
            ]
        },
        {
            "cell_type": "code",
            "execution_count": null,
            "metadata": {},
            "outputs": [],
            "source": [
                "# Test 3 - honest delete and then decrypt\n",
                "combined_circuit_test3 = deletion_circuit_test1\n",
                "# A measurement is always in the computational basis, so measuring again for decryption would be redundant\n",
                "# The circuits for Test 1 and Test 3 are identical\n",
                "combined_counts_test3 = deletion_counts_test1\n",
                "\n",
                "ciphertext.circuits = [circuit.copy() for circuit in original_circuits]"
            ]
        },
        {
            "cell_type": "code",
            "execution_count": null,
            "metadata": {},
            "outputs": [],
            "source": [
                "# Test 4 - malicious delete and then decrypt\n",
                "breidbart_circuit_test4 = breidbart_measure(ciphertext)\n",
                "# A measurement is always in the computational basis, so measuring again for decryption would be redundant\n",
                "combined_counts_test4 = run_circuit_blocks(breidbart_circuit_test4)\n",
                "\n",
                "ciphertext.circuits = [circuit.copy() for circuit in original_circuits]"
            ]
        },
        {
            "cell_type": "code",
            "execution_count": null,
            "metadata": {},
            "outputs": [],
            "source": [
                "# Test 5 - tamper detection\n",
                "decryption_circuit_test5 = decryption_counts_test2\n",
                "combined_counts_test5 = decryption_counts_test2\n",
                "\n",
                "ciphertext.circuits = [circuit.copy() for circuit in original_circuits]"
            ]
        },
        {
            "cell_type": "code",
            "execution_count": null,
            "metadata": {},
            "outputs": [],
            "source": [
                "# Create experiment and export to a folder\n",
                "exp = experiment.Experiment(\n",
                "    experiment_id=experiment_id,\n",
                "    execution_datetime=execution_datetime,\n",
                "    execution_shots=shots,\n",
                "    optimization_level=optimization_level,\n",
                "    backend_system=system_string,\n",
                "    qubits_per_circuit=qubits_per_circuit,\n",
                "    microsecond_delay=microsecond_delay,\n",
                "    folder_path=folder_path,\n",
                "    parameters=scheme_params,\n",
                "    key=key,\n",
                "    ciphertext=ciphertext,\n",
                "    message=message,\n",
                "    deletion_counts_test1=deletion_counts_test1,\n",
                "    decryption_counts_test2=decryption_counts_test2,\n",
                "    combined_counts_test3=combined_counts_test3,\n",
                "    combined_counts_test4=combined_counts_test4,\n",
                "    combined_counts_test5=combined_counts_test5,\n",
                "    circuits=circuits_to_save,\n",
                ")\n",
                "\n",
                "qubit_list = backend.properties().qubits if backend.properties() else None\n",
                "exp.export_to_folder(qubit_list=qubit_list)"
            ]
        },
        {
            "cell_type": "code",
            "execution_count": null,
            "metadata": {},
            "outputs": [],
            "source": [
                "# Create zip file\n",
                "shutil.make_archive(\"data_export\", \"zip\", folder_prefix);"
            ]
        }
    ],
    "metadata": {
        "kernelspec": {
            "display_name": "Python 3.10.4 ('certified-deletion')",
            "language": "python",
            "name": "python3"
        },
        "language_info": {
            "codemirror_mode": {
                "name": "ipython",
                "version": 3
            },
            "file_extension": ".py",
            "mimetype": "text/x-python",
            "name": "python",
            "nbconvert_exporter": "python",
            "pygments_lexer": "ipython3",
            "version": "3.10.4"
        },
        "vscode": {
            "interpreter": {
                "hash": "d73f75a98925c8700cb62ecdae3288d1b3431cce6c7bd46de19d5c767ee33bae"
            }
        }
    },
    "nbformat": 4,
    "nbformat_minor": 2
}
