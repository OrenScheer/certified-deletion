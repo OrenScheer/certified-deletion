{
    "cells": [
        {
            "cell_type": "code",
            "execution_count": null,
            "metadata": {},
            "outputs": [],
            "source": [
                "from qiskit import QuantumCircuit, transpile, IBMQ\n",
                "from scheme_parameters import SchemeParameters\n",
                "from decryption_circuit import create_decryption_circuit\n",
                "from deletion_circuit import delete\n",
                "from attack_circuit import breidbart_measure\n",
                "from qiskit.providers.aer import AerSimulator\n",
                "from qiskit.providers.fake_provider import FakeMontreal\n",
                "import shutil\n",
                "from datetime import datetime\n",
                "import experiment\n",
                "from typing import List, cast\n",
                "from experiment_properties import ExperimentProperties\n",
                "from experiment_manager import ExperimentManager\n",
                "from qiskit.providers.ibmq.managed import IBMQJobManager\n",
                "from qiskit.providers import JobStatus\n",
                "import time"
            ]
        },
        {
            "cell_type": "code",
            "execution_count": null,
            "metadata": {},
            "outputs": [],
            "source": [
                "# Experiment parameters\n",
                "execution_datetime = datetime.now()\n",
                "experiment_group_id = \"experiment-manager-a\"\n",
                "system_string = \"ibmq_manila\" # Or insert other system name here\n",
                "microsecond_delay = 0 # Delay between preparing the qubits and the first measurement, whether deletion or decryption\n",
                "folder_prefix = \"data\"\n",
                "\n",
                "# Backend parameters\n",
                "provider = IBMQ.load_account()\n",
                "\n",
                "# Ideal simulator\n",
                "# backend = AerSimulator()\n",
                "\n",
                "# Simulator with noise model\n",
                "noise_model = FakeMontreal()\n",
                "backend = AerSimulator.from_backend(noise_model)\n",
                "\n",
                "# Real backend\n",
                "backend = provider.get_backend(\"ibmq_manila\")\n",
                "\n",
                "# Qiskit parameters\n",
                "optimization_level = 1\n",
                "shots = 1000\n",
                "qubits_per_circuit = 5"
            ]
        },
        {
            "cell_type": "code",
            "execution_count": null,
            "metadata": {},
            "outputs": [],
            "source": [
                "experiment_manager = ExperimentManager()\n",
                "ibmq_job_manager = IBMQJobManager()\n",
                "\n",
                "experiment_properties = ExperimentProperties(\n",
                "    execution_datetime=execution_datetime,\n",
                "    shots=shots,\n",
                "    system=system_string,\n",
                "    microsecond_delay=microsecond_delay,\n",
                "    optimization_level=optimization_level,\n",
                "    qubits_per_circuit=qubits_per_circuit,\n",
                ")\n",
                "\n",
                "experiment_manager.set_up_experiments(\n",
                "    experiment_properties,\n",
                "    scheme_parameters=SchemeParameters.generate_from_lambda(1),\n",
                "    num_experiments=15,\n",
                "    folder_prefix=folder_prefix,\n",
                "    base_id=experiment_group_id,\n",
                ")"
            ]
        },
        {
            "cell_type": "code",
            "execution_count": null,
            "metadata": {},
            "outputs": [],
            "source": [
                "for experiment in experiment_manager.experiments:\n",
                "    deletion_circuit_test1 = delete(experiment.ciphertext)\n",
                "    experiment.full_circuits.append(deletion_circuit_test1)\n",
                "\n",
                "    decryption_circuit_test2 = create_decryption_circuit(experiment.key, experiment.ciphertext)\n",
                "    experiment.full_circuits.append(decryption_circuit_test2)\n",
                "\n",
                "    breidbart_circuit_test4 = breidbart_measure(experiment.ciphertext)\n",
                "    experiment.full_circuits.append(breidbart_circuit_test4)"
            ]
        },
        {
            "cell_type": "code",
            "execution_count": null,
            "metadata": {},
            "outputs": [],
            "source": [
                "raw_circuits = experiment_manager.collect_circuits()\n",
                "transpiled_circuits = transpile(raw_circuits, backend=backend, optimization_level=optimization_level,\n",
                "                                scheduling_method=\"alap\" if microsecond_delay > 0 else None) # type: ignore\n",
                "transpiled_circuits = cast(List[QuantumCircuit], transpiled_circuits)\n",
                "experiment_manager.save_transpiled_circuits(transpiled_circuits)\n",
                "\n",
                "job_set = ibmq_job_manager.run(transpiled_circuits, backend=backend, shots=shots, memory=True)"
            ]
        },
        {
            "cell_type": "code",
            "execution_count": null,
            "metadata": {},
            "outputs": [],
            "source": [
                "while not all([status in (JobStatus.DONE, JobStatus.ERROR, JobStatus.CANCELLED) for status in job_set.statuses()]):\n",
                "    print(f\"Jobs completed: {job_set.statuses().count(JobStatus.DONE)}/{len(job_set.statuses())}\")\n",
                "    time.sleep(30)\n",
                "\n",
                "print(f\"Jobs completed: {job_set.statuses().count(JobStatus.DONE)}/{len(job_set.statuses())}\")\n",
                "experiment_manager.process_results(job_set.results())"
            ]
        },
        {
            "cell_type": "code",
            "execution_count": null,
            "metadata": {},
            "outputs": [],
            "source": [
                "qubit_list = backend.properties().qubits if backend.properties() else None\n",
                "for experiment in experiment_manager.experiments:\n",
                "    experiment.export_to_folder(qubit_list=qubit_list)"
            ]
        },
        {
            "cell_type": "code",
            "execution_count": null,
            "metadata": {},
            "outputs": [],
            "source": [
                "# Create zip file\n",
                "shutil.make_archive(\"data_export\", \"zip\", folder_prefix);"
            ]
        }
    ],
    "metadata": {
        "kernelspec": {
            "display_name": "Python 3.10.4 ('certified-deletion')",
            "language": "python",
            "name": "python3"
        },
        "language_info": {
            "codemirror_mode": {
                "name": "ipython",
                "version": 3
            },
            "file_extension": ".py",
            "mimetype": "text/x-python",
            "name": "python",
            "nbconvert_exporter": "python",
            "pygments_lexer": "ipython3",
            "version": "3.10.4"
        },
        "vscode": {
            "interpreter": {
                "hash": "d73f75a98925c8700cb62ecdae3288d1b3431cce6c7bd46de19d5c767ee33bae"
            }
        }
    },
    "nbformat": 4,
    "nbformat_minor": 2
}
