{
 "cells": [
  {
   "cell_type": "code",
   "execution_count": null,
   "metadata": {},
   "outputs": [],
   "source": [
    "from qiskit import QuantumCircuit, transpile, execute, IBMQ\n",
    "from states import Key, Ciphertext\n",
    "from global_parameters import GlobalParameters\n",
    "from encryption_circuit import encrypt\n",
    "from verification_circuit import verify_deletion_counts\n",
    "from decryption_circuit import create_decryption_circuit, decrypt_results\n",
    "from deletion_circuit import delete\n",
    "from attack_circuit import breidbart_measurement\n",
    "from qiskit.providers.aer import AerSimulator\n",
    "from qiskit.test.mock import FakeMontreal\n",
    "from qiskit.circuit import qpy_serialization\n",
    "from utils import export_counts, random_bit_string\n",
    "import os\n",
    "import shutil"
   ]
  },
  {
   "cell_type": "code",
   "execution_count": null,
   "metadata": {},
   "outputs": [],
   "source": [
    "# Qiskit parameters\n",
    "provider = IBMQ.load_account()\n",
    "\n",
    "# Simulator\n",
    "# noise_model = FakeMontreal()\n",
    "# backend = AerSimulator.from_backend(noise_model)\n",
    "\n",
    "# Real device - uncomment, might be a different way to access\n",
    "# backend = provider.get_backend(\"ibmq_montreal\")\n",
    "\n",
    "optimization_level = 0\n",
    "shots = 1000\n",
    "\n",
    "# Create data directory\n",
    "if not os.path.exists(\"data\"):\n",
    "    os.mkdir(\"data\")"
   ]
  },
  {
   "cell_type": "code",
   "execution_count": null,
   "metadata": {},
   "outputs": [],
   "source": [
    "# Utility function to run a circuit, and return the result counts\n",
    "def run_and_measure(circuit: QuantumCircuit, draw: bool = False) -> dict[str, int]:\n",
    "    \"\"\"Transpiles and runs the QuantumCircuit, and returns the resulting counts of the execution.\"\"\"\n",
    "    if draw:\n",
    "        print(circuit.draw())\n",
    "    transpiled_circuit = transpile(\n",
    "        circuit, backend=backend, optimization_level=optimization_level)\n",
    "    result = backend.run(transpiled_circuit, shots=shots).result()\n",
    "    counts = result.get_counts()\n",
    "    # Reverse the string since the most significant qubit is at the 0th index of the measurement string\n",
    "    reversed_keys_dict = {}\n",
    "    for key, value in counts.items():\n",
    "        reversed_keys_dict[key[::-1]] = value\n",
    "    return reversed_keys_dict"
   ]
  },
  {
   "cell_type": "code",
   "execution_count": null,
   "metadata": {},
   "outputs": [],
   "source": [
    "# Encrypt \n",
    "global_params = GlobalParameters.generate_from_lambda(1)\n",
    "key = Key.generate_key(global_params)\n",
    "message = random_bit_string(global_params.n)\n",
    "ciphertext = encrypt(message, key, global_params)\n",
    "original_circuit = ciphertext.circuit.copy() # We might modify this circuit in subsequent steps\n",
    "\n",
    "with open(\"data/global_params.txt\", \"w\") as f:\n",
    "    f.write(global_params.to_json())\n",
    "\n",
    "with open(\"data/key.txt\", \"w\") as f:\n",
    "    f.write(key.to_json())\n",
    "\n",
    "with open(\"data/ciphertext.txt\", \"w\") as f:\n",
    "    f.write(ciphertext.to_json())\n",
    "\n",
    "with open(\"data/message.txt\", \"w\") as f:\n",
    "    f.write(message)\n",
    "\n",
    "with open (\"data/base_circuit.qpy\", \"wb\") as f:\n",
    "    qpy_serialization.dump(original_circuit, f)"
   ]
  },
  {
   "cell_type": "code",
   "execution_count": null,
   "metadata": {},
   "outputs": [],
   "source": [
    "# Test 1 - delete\n",
    "deletion_circuit_test1 = delete(ciphertext)\n",
    "deletion_counts_test1 = run_and_measure(deletion_circuit_test1)\n",
    "export_counts(deletion_counts_test1, csv_filename=\"data/test1-deletion-counts.csv\", key_label=\"Deletion measurement\")\n",
    "verify_deletion_counts(deletion_counts_test1, key, global_params)\n",
    "\n",
    "ciphertext.circuit = original_circuit.copy() # To make it easier to re-run cells"
   ]
  },
  {
   "cell_type": "code",
   "execution_count": null,
   "metadata": {},
   "outputs": [],
   "source": [
    "# Test 2 - decrypt\n",
    "decryption_circuit_test2 = create_decryption_circuit(key, ciphertext)\n",
    "decryption_counts_test2 = run_and_measure(decryption_circuit_test2)\n",
    "export_counts(decryption_counts_test2, csv_filename=\"data/test2-decryption-counts.csv\", key_label=\"Decryption measurement\")\n",
    "decrypt_results(decryption_counts_test2, key, ciphertext, message)\n",
    "\n",
    "ciphertext.circuit = original_circuit.copy() # To make it easier to re-run cells"
   ]
  },
  {
   "cell_type": "code",
   "execution_count": null,
   "metadata": {},
   "outputs": [],
   "source": [
    "# Test 3 - delete (possibly maliciously) and then decrypt\n",
    "# deletion_circuit_test3 = delete(ciphertext)\n",
    "deletion_circuit_test3 = breidbart_measurement(ciphertext)\n",
    "ciphertext.circuit = deletion_circuit_test3 # To use the new circuit as the starting point of the decryption_measurement circuit\n",
    "decryption_circuit_test3 = create_decryption_circuit(key, ciphertext)\n",
    "raw_counts_test3 = run_and_measure(decryption_circuit_test3)\n",
    "deletion_counts_test3 = {}\n",
    "decryption_counts_test3 = {}\n",
    "for measurement, count in raw_counts_test3.items():\n",
    "    # Qiskit will return a space-separated string of the two measurements. \n",
    "    # run_and_measure will reverse the string so that the first substring is the first measurement.\n",
    "    deletion_measurement, decryption_measurement = measurement.split(\" \")\n",
    "    deletion_counts_test3[deletion_measurement] = deletion_counts_test3.get(deletion_measurement, 0) + count\n",
    "    decryption_counts_test3[decryption_measurement] = decryption_counts_test3.get(decryption_measurement, 0) + count\n",
    "\n",
    "export_counts(raw_counts_test3, csv_filename=\"data/test3-raw-counts.csv\", key_label=\"Measurement\")\n",
    "export_counts(deletion_counts_test3, csv_filename=\"data/test3-deletion-counts.csv\", key_label=\"Deletion measurement\")\n",
    "export_counts(decryption_counts_test3, csv_filename=\"data/test3-decryption-counts.csv\", key_label=\"Decryption measurement\")\n",
    "accepted_certificates_test3 = verify_deletion_counts(deletion_counts_test3, key, global_params)\n",
    "# Test the decryption results for all the measurements, regardless of whether or not the certificate of deletion was accepted\n",
    "decrypt_results(decryption_counts_test3, key, ciphertext, message)\n",
    "\n",
    "# Test the decryption results for just the measurements where the certificate of deletion was accepted\n",
    "accepted_deletion_decryption_counts_test3 = {}\n",
    "for measurement, count in raw_counts_test3.items():\n",
    "    deletion_measurement, decryption_measurement = measurement.split(\" \")\n",
    "    if deletion_measurement in accepted_certificates_test3:\n",
    "        accepted_deletion_decryption_counts_test3[decryption_measurement] = accepted_deletion_decryption_counts_test3.get(decryption_measurement, 0) + count\n",
    "\n",
    "print()\n",
    "print(\"Of the measurements where the proof of deletion was accepted, the following are the decryption statistics:\")\n",
    "decrypt_results(accepted_deletion_decryption_counts_test3, key, ciphertext, message)\n",
    "\n",
    "ciphertext.circuit = original_circuit.copy() # To make it easier to re-run cells"
   ]
  },
  {
   "cell_type": "code",
   "execution_count": null,
   "metadata": {},
   "outputs": [],
   "source": [
    "# Create zip file\n",
    "shutil.make_archive(\"data_export\", \"zip\", \"data\")"
   ]
  }
 ],
 "metadata": {
  "interpreter": {
   "hash": "d73f75a98925c8700cb62ecdae3288d1b3431cce6c7bd46de19d5c767ee33bae"
  },
  "kernelspec": {
   "display_name": "Python 3.10.4 ('certified-deletion')",
   "language": "python",
   "name": "python3"
  },
  "language_info": {
   "codemirror_mode": {
    "name": "ipython",
    "version": 3
   },
   "file_extension": ".py",
   "mimetype": "text/x-python",
   "name": "python",
   "nbconvert_exporter": "python",
   "pygments_lexer": "ipython3",
   "version": "3.10.4"
  }
 },
 "nbformat": 4,
 "nbformat_minor": 2
}
