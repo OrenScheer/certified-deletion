{
    "cells": [
        {
            "cell_type": "code",
            "execution_count": 1,
            "metadata": {},
            "outputs": [],
            "source": [
                "from qiskit import QuantumCircuit, transpile, execute, IBMQ\n",
                "from qiskit.circuit import Delay\n",
                "from states import Key, Ciphertext\n",
                "from scheme_parameters import SchemeParameters\n",
                "from encryption_circuit import encrypt\n",
                "from decryption_circuit import create_decryption_circuit, create_decryption_circuit_for_deletion\n",
                "from deletion_circuit import delete\n",
                "from attack_circuit import breidbart_measurement\n",
                "from qiskit.providers.aer import AerSimulator\n",
                "from qiskit.test.mock import FakeMontreal\n",
                "from utils import random_bit_string\n",
                "import shutil\n",
                "from datetime import datetime\n",
                "import experiment\n",
                "import typing"
            ]
        },
        {
            "cell_type": "code",
            "execution_count": 2,
            "metadata": {},
            "outputs": [],
            "source": [
                "# Experiment parameters\n",
                "execution_datetime = datetime.now()\n",
                "experiment_id = f\"cmc-3-{execution_datetime}\".replace(\":\", \"-\").replace(\".\", \"_\")\n",
                "system_string = \"ibmq_montreal\" # Or insert other system name here\n",
                "microsecond_delay = 5 # Delay between preparing the qubits and the first measurement, whether deletion or decryption\n",
                "folder_prefix = \"data\"\n",
                "folder_path = f\"{folder_prefix}/{experiment_id}\"\n",
                "circuits = [] # We will save all the circuits to serialize\n",
                "\n",
                "# Backend parameters\n",
                "provider = IBMQ.load_account()\n",
                "\n",
                "# Ideal simulator\n",
                "# backend = AerSimulator()\n",
                "\n",
                "# Simulator with noise model\n",
                "# noise_model = FakeMontreal()\n",
                "# backend = AerSimulator.from_backend(noise_model)\n",
                "\n",
                "# Real backend\n",
                "backend = provider.get_backend(\"ibmq_montreal\")\n",
                "\n",
                "# Qiskit parameters\n",
                "optimization_level = 2\n",
                "shots = 1000"
            ]
        },
        {
            "cell_type": "code",
            "execution_count": 3,
            "metadata": {},
            "outputs": [],
            "source": [
                "def run_and_measure(circuit: QuantumCircuit, draw: bool = False) -> typing.Dict[str, int]:\n",
                "    \"\"\"Transpiles and runs the QuantumCircuit, and returns the resulting counts of the execution.\"\"\"\n",
                "    if draw:\n",
                "        print(circuit.draw())\n",
                "    transpiled_circuit = transpile(\n",
                "        circuit, backend=backend, optimization_level=optimization_level)\n",
                "    transpiled_circuit = typing.cast(QuantumCircuit, transpiled_circuit)\n",
                "    if draw:\n",
                "        print(transpiled_circuit.draw())\n",
                "    result = backend.run(transpiled_circuit, shots=shots).result()\n",
                "    counts = result.get_counts()\n",
                "    # Reverse the string since the most significant qubit is at the 0th index of the measurement string\n",
                "    reversed_keys_dict = {}\n",
                "    for key, value in counts.items():\n",
                "        reversed_keys_dict[key[::-1]] = value\n",
                "    circuits.extend([circuit, transpiled_circuit])\n",
                "    return reversed_keys_dict"
            ]
        },
        {
            "cell_type": "code",
            "execution_count": 4,
            "metadata": {},
            "outputs": [],
            "source": [
                "# Encrypt from new states\n",
                "scheme_params = SchemeParameters.generate_from_lambda(1)\n",
                "key = Key.generate_key(scheme_params)\n",
                "message = random_bit_string(scheme_params.n)\n",
                "ciphertext = encrypt(message, key, scheme_params)\n",
                "if microsecond_delay > 0:\n",
                "    ciphertext.circuit.delay(microsecond_delay, range(ciphertext.circuit.num_qubits), unit=\"us\")\n",
                "original_circuit = ciphertext.circuit.copy() # We might modify this circuit in subsequent steps\n",
                "circuits.append(original_circuit)"
            ]
        },
        {
            "cell_type": "code",
            "execution_count": 5,
            "metadata": {},
            "outputs": [],
            "source": [
                "# # Encrypt from existing states\n",
                "# old_experiment = experiment.Experiment.reconstruct_experiment_from_folder(\"data/cumc-delay-0\")\n",
                "# scheme_params = old_experiment.parameters\n",
                "# key = old_experiment.key\n",
                "# message = old_experiment.message\n",
                "# ciphertext = old_experiment.ciphertext\n",
                "# ciphertext.circuit = old_experiment.circuits[0].copy()\n",
                "# ciphertext.circuit.data = [instruction for instruction in ciphertext.circuit.data if not isinstance(instruction[0], Delay)]\n",
                "# if microsecond_delay > 0:\n",
                "#     ciphertext.circuit.delay(microsecond_delay, range(ciphertext.circuit.num_qubits), unit=\"us\")\n",
                "# original_circuit = ciphertext.circuit.copy()\n",
                "# circuits.append(original_circuit)"
            ]
        },
        {
            "cell_type": "code",
            "execution_count": 6,
            "metadata": {},
            "outputs": [],
            "source": [
                "# Test 1 - honest delete\n",
                "deletion_circuit_test1 = delete(ciphertext)\n",
                "deletion_counts_test1 = run_and_measure(deletion_circuit_test1)\n",
                "\n",
                "ciphertext.circuit = original_circuit.copy() # To make it easier to re-run cells"
            ]
        },
        {
            "cell_type": "code",
            "execution_count": 7,
            "metadata": {},
            "outputs": [],
            "source": [
                "# Test 2 - decrypt\n",
                "decryption_circuit_test2 = create_decryption_circuit_for_deletion(key, ciphertext)\n",
                "decryption_counts_test2 = run_and_measure(decryption_circuit_test2)\n",
                "\n",
                "ciphertext.circuit = original_circuit.copy() # To make it easier to re-run cells"
            ]
        },
        {
            "cell_type": "code",
            "execution_count": 8,
            "metadata": {},
            "outputs": [],
            "source": [
                "# Test 3 - honest delete and then decrypt\n",
                "combined_circuit_test3 = delete(ciphertext)\n",
                "# A measurement is always in the computational basis, so measuring again for decryption would be redundant\n",
                "combined_counts_test3 = run_and_measure(combined_circuit_test3)\n",
                "\n",
                "ciphertext.circuit = original_circuit.copy() # To make it easier to re-run cells"
            ]
        },
        {
            "cell_type": "code",
            "execution_count": 9,
            "metadata": {},
            "outputs": [],
            "source": [
                "# Test 4 - malicious delete and then decrypt\n",
                "breidbart_circuit_test4 = breidbart_measurement(ciphertext)\n",
                "# A measurement is always in the computational basis, so measuring again for decryption would be redundant\n",
                "combined_counts_test4 = run_and_measure(breidbart_circuit_test4)\n",
                "\n",
                "ciphertext.circuit = original_circuit.copy() # To make it easier to re-run cells"
            ]
        },
        {
            "cell_type": "code",
            "execution_count": 10,
            "metadata": {},
            "outputs": [],
            "source": [
                "# Test 5 - tamper detection\n",
                "decryption_circuit_test5 = create_decryption_circuit_for_deletion(key, ciphertext)\n",
                "ciphertext.circuit = decryption_circuit_test5\n",
                "deletion_circuit_test5 = delete(ciphertext)\n",
                "raw_counts_test5 = run_and_measure(deletion_circuit_test5)\n",
                "\n",
                "ciphertext.circuit = original_circuit.copy()"
            ]
        },
        {
            "cell_type": "code",
            "execution_count": 11,
            "metadata": {},
            "outputs": [],
            "source": [
                "# Create experiment and export to a folder\n",
                "exp = experiment.Experiment(\n",
                "    experiment_id=experiment_id,\n",
                "    execution_datetime=execution_datetime,\n",
                "    execution_shots=shots,\n",
                "    optimization_level=optimization_level,\n",
                "    backend_system=system_string,\n",
                "    microsecond_delay=microsecond_delay,\n",
                "    folder_path=folder_path,\n",
                "    parameters=scheme_params,\n",
                "    key=key,\n",
                "    ciphertext=ciphertext,\n",
                "    message=message,\n",
                "    deletion_counts_test1=deletion_counts_test1,\n",
                "    decryption_counts_test2=decryption_counts_test2,\n",
                "    combined_counts_test3=combined_counts_test3,\n",
                "    combined_counts_test4=combined_counts_test4,\n",
                "    raw_counts_test5=raw_counts_test5,\n",
                "    circuits=circuits,\n",
                ")\n",
                "exp.export_to_folder()"
            ]
        },
        {
            "cell_type": "code",
            "execution_count": 12,
            "metadata": {},
            "outputs": [],
            "source": [
                "# Create zip file\n",
                "shutil.make_archive(\"data_export\", \"zip\", folder_prefix);"
            ]
        }
    ],
    "metadata": {
        "kernelspec": {
            "display_name": "Python 3.10.4 ('certified-deletion')",
            "language": "python",
            "name": "python3"
        },
        "language_info": {
            "codemirror_mode": {
                "name": "ipython",
                "version": 3
            },
            "file_extension": ".py",
            "mimetype": "text/x-python",
            "name": "python",
            "nbconvert_exporter": "python",
            "pygments_lexer": "ipython3",
            "version": "3.10.4"
        },
        "vscode": {
            "interpreter": {
                "hash": "d73f75a98925c8700cb62ecdae3288d1b3431cce6c7bd46de19d5c767ee33bae"
            }
        }
    },
    "nbformat": 4,
    "nbformat_minor": 2
}
