{
 "cells": [
  {
   "cell_type": "code",
   "execution_count": null,
   "metadata": {},
   "outputs": [],
   "source": [
    "# Testing universal-2 hashing\n",
    "\n",
    "from decryption_circuit import generate_all_binary_strings\n",
    "from utils import random_bit_matrix\n",
    "from encryption_circuit import xor_multiply_matrix_with_bit_string\n",
    "s = 8\n",
    "tau = 6\n",
    "\n",
    "ec_matrix = random_bit_matrix(tau, s)\n",
    "counts = {}\n",
    "for s_string in generate_all_binary_strings(s):\n",
    "    res = xor_multiply_matrix_with_bit_string(ec_matrix, s_string)\n",
    "    counts[res] = counts.get(res, 0) + 1\n",
    "not_a_result = []\n",
    "for tau_string in generate_all_binary_strings(tau):\n",
    "    if tau_string not in counts:\n",
    "        not_a_result.append(tau_string)\n",
    "for k, v in counts.items():\n",
    "    print(f\"{k}: {v}\")\n",
    "print(f\"Not found: {not_a_result}\")"
   ]
  }
 ],
 "metadata": {
  "kernelspec": {
   "display_name": "Python 3.10.4 ('certified-deletion')",
   "language": "python",
   "name": "python3"
  },
  "language_info": {
   "codemirror_mode": {
    "name": "ipython",
    "version": 3
   },
   "file_extension": ".py",
   "mimetype": "text/x-python",
   "name": "python",
   "nbconvert_exporter": "python",
   "pygments_lexer": "ipython3",
   "version": "3.10.4"
  },
  "orig_nbformat": 4,
  "vscode": {
   "interpreter": {
    "hash": "d73f75a98925c8700cb62ecdae3288d1b3431cce6c7bd46de19d5c767ee33bae"
   }
  }
 },
 "nbformat": 4,
 "nbformat_minor": 2
}
