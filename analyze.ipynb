{
 "cells": [
  {
   "cell_type": "code",
   "execution_count": null,
   "metadata": {},
   "outputs": [],
   "source": [
    "import shutil\n",
    "from experiment import Experiment"
   ]
  },
  {
   "cell_type": "code",
   "execution_count": null,
   "metadata": {},
   "outputs": [],
   "source": [
    "# Unzip files\n",
    "shutil.unpack_archive(\"data_export.zip\", \"data\")"
   ]
  },
  {
   "cell_type": "code",
   "execution_count": null,
   "metadata": {},
   "outputs": [],
   "source": [
    "# Process files to create an Experiment\n",
    "experiment = Experiment.reconstruct_experiment_from_folder(\"data/montreal-tamper\")\n",
    "\n",
    "print(experiment.get_experiment_info())\n",
    "\n",
    "# baseline_experiment = Experiment.reconstruct_experiment_from_folder(\"data/simulator-delay-12-weird\")\n",
    "baseline_experiment = None\n",
    "if baseline_experiment:\n",
    "    print(baseline_experiment.get_experiment_info())"
   ]
  },
  {
   "cell_type": "code",
   "execution_count": null,
   "metadata": {},
   "outputs": [],
   "source": [
    "# Test 1 - honest delete\n",
    "print(experiment.run_test_1())\n",
    "\n",
    "if baseline_experiment:\n",
    "    print(\"\\nBaseline experiment:\")\n",
    "    print(baseline_experiment.run_test_1())"
   ]
  },
  {
   "cell_type": "code",
   "execution_count": null,
   "metadata": {},
   "outputs": [],
   "source": [
    "# Test 2 - decrypt\n",
    "print(experiment.run_test_2())\n",
    "\n",
    "if baseline_experiment:\n",
    "    print(\"\\nBaseline experiment:\")\n",
    "    print(baseline_experiment.run_test_2())"
   ]
  },
  {
   "cell_type": "code",
   "execution_count": null,
   "metadata": {},
   "outputs": [],
   "source": [
    "# Test 3 - honest delete and then decrypt\n",
    "print(experiment.run_test_3())\n",
    "\n",
    "if baseline_experiment:\n",
    "    print(\"\\nBaseline experiment:\")\n",
    "    print(baseline_experiment.run_test_3())"
   ]
  },
  {
   "cell_type": "code",
   "execution_count": null,
   "metadata": {},
   "outputs": [],
   "source": [
    "# Test 4 - malicious delete and then decrypt\n",
    "print(experiment.run_test_4())\n",
    "\n",
    "if baseline_experiment:\n",
    "    print(\"\\nBaseline experiment:\")\n",
    "    print(baseline_experiment.run_test_4())"
   ]
  },
  {
   "cell_type": "code",
   "execution_count": null,
   "metadata": {},
   "outputs": [],
   "source": [
    "# Test 5 - tamper detection\n",
    "print(experiment.run_test_5())\n",
    "\n",
    "if baseline_experiment:\n",
    "    print(\"\\nBaseline experiment:\")\n",
    "    print(baseline_experiment.run_test_5())"
   ]
  }
 ],
 "metadata": {
  "interpreter": {
   "hash": "d73f75a98925c8700cb62ecdae3288d1b3431cce6c7bd46de19d5c767ee33bae"
  },
  "kernelspec": {
   "display_name": "Python 3.10.4 ('certified-deletion')",
   "language": "python",
   "name": "python3"
  },
  "language_info": {
   "codemirror_mode": {
    "name": "ipython",
    "version": 3
   },
   "file_extension": ".py",
   "mimetype": "text/x-python",
   "name": "python",
   "nbconvert_exporter": "python",
   "pygments_lexer": "ipython3",
   "version": "3.10.4"
  },
  "orig_nbformat": 4
 },
 "nbformat": 4,
 "nbformat_minor": 2
}
