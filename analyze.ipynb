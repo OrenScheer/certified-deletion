{
 "cells": [
  {
   "cell_type": "code",
   "execution_count": 1,
   "metadata": {},
   "outputs": [],
   "source": [
    "from global_parameters import GlobalParameters\n",
    "from states import Key, Ciphertext\n",
    "from decryption_circuit import decrypt_results\n",
    "from verification_circuit import verify_deletion_counts\n",
    "from utils import import_counts\n",
    "from qiskit.circuit import qpy_serialization\n",
    "import shutil"
   ]
  },
  {
   "cell_type": "code",
   "execution_count": 2,
   "metadata": {},
   "outputs": [],
   "source": [
    "# Unzip files\n",
    "shutil.unpack_archive(\"data_export.zip\", \"data\")"
   ]
  },
  {
   "cell_type": "code",
   "execution_count": 3,
   "metadata": {},
   "outputs": [],
   "source": [
    "# Import all files\n",
    "with open(\"data/global_params.txt\", \"r\") as params_file, open(\"data/key.txt\", \"r\") as key_file, open(\"data/ciphertext.txt\", \"r\") as ciphertext_file, open(\"data/message.txt\", \"r\") as message_file:\n",
    "    params = GlobalParameters.from_json(params_file.read())\n",
    "    key = Key.from_json(key_file.read())\n",
    "    ciphertext = Ciphertext.from_json(ciphertext_file.read(), \"data/base_circuit.qpy\")\n",
    "    message = message_file.read()"
   ]
  },
  {
   "cell_type": "code",
   "execution_count": 4,
   "metadata": {},
   "outputs": [
    {
     "name": "stdout",
     "output_type": "stream",
     "text": [
      "Accepted proof of deletion: 902/1000 (90.2%)\n",
      "Rejected proof of deletion: 98/1000 (9.8%)\n",
      "Out of the 98 rejected certificates, the following are the counts of the Hamming distances between the received certificate and the expected certificate:\n",
      "Hamming distance 1: 95\n",
      "Hamming distance 2: 3\n"
     ]
    }
   ],
   "source": [
    "# Test 1 - delete\n",
    "deletion_counts_test1 = import_counts(\"data/test1-deletion-counts.csv\")\n",
    "verify_deletion_counts(deletion_counts_test1, key, params);"
   ]
  },
  {
   "cell_type": "code",
   "execution_count": 5,
   "metadata": {},
   "outputs": [
    {
     "name": "stdout",
     "output_type": "stream",
     "text": [
      "Correct message decrypted: 867/1000 (86.7%)\n",
      "Incorrect message decrypted: 133/1000 (13.3%)\n",
      "Error detected during decryption process (hashes didn't match): 28/1000 (2.8000000000000003%)\n",
      "\n",
      "Correct message decrypted: 976/1000 (97.6%)\n",
      "Incorrect message decrypted: 24/1000 (2.4%)\n",
      "Error detected during decryption process (hashes didn't match): 11/1000 (1.0999999999999999%)\n"
     ]
    }
   ],
   "source": [
    "# Test 2.1 - decrypt without error correction\n",
    "decryption_counts_test2 = import_counts(\"data/test2-decryption-counts.csv\")\n",
    "decrypt_results(decryption_counts_test2, key, ciphertext, message)\n",
    "\n",
    "# Test 2.2 - decrypt with error correction\n",
    "print()\n",
    "decrypt_results(decryption_counts_test2, key, ciphertext, message, error_correct=True)"
   ]
  },
  {
   "cell_type": "code",
   "execution_count": 8,
   "metadata": {},
   "outputs": [
    {
     "name": "stdout",
     "output_type": "stream",
     "text": [
      "Accepted proof of deletion: 897/1000 (89.7%)\n",
      "Rejected proof of deletion: 103/1000 (10.299999999999999%)\n",
      "Out of the 103 rejected certificates, the following are the counts of the Hamming distances between the received certificate and the expected certificate:\n",
      "Hamming distance 1: 97\n",
      "Hamming distance 2: 6\n",
      "Correct message decrypted: 66/1000 (6.6000000000000005%)\n",
      "Incorrect message decrypted: 934/1000 (93.4%)\n",
      "Error detected during decryption process (hashes didn't match): 848/1000 (84.8%)\n",
      "\n",
      "Correct message decrypted: 134/1000 (13.4%)\n",
      "Incorrect message decrypted: 866/1000 (86.6%)\n",
      "Error detected during decryption process (hashes didn't match): 846/1000 (84.6%)\n",
      "\n",
      "Of the measurements where the proof of deletion was accepted, the following are the decryption statistics:\n",
      "Correct message decrypted: 63/897 (7.023411371237458%)\n",
      "Incorrect message decrypted: 834/897 (92.97658862876254%)\n",
      "Error detected during decryption process (hashes didn't match): 761/897 (84.83835005574136%)\n"
     ]
    }
   ],
   "source": [
    "# Test 3 - delete (possibly maliciously) and then decrypt\n",
    "raw_counts_test3 = import_counts(\"data/test3-raw-counts.csv\")\n",
    "deletion_counts_test3 = import_counts(\"data/test3-deletion-counts.csv\")\n",
    "decryption_counts_test3 = import_counts(\"data/test3-decryption-counts.csv\")\n",
    "accepted_certificates_test3 = verify_deletion_counts(deletion_counts_test3, key, params)\n",
    "# Test the decryption results for all the measurements, regardless of whether or not the certificate of deletion was accepted\n",
    "decrypt_results(decryption_counts_test3, key, ciphertext, message)\n",
    "print()\n",
    "decrypt_results(decryption_counts_test3, key, ciphertext, message, error_correct=True)\n",
    "\n",
    "# Test the decryption results for just the measurements where the certificate of deletion was accepted\n",
    "accepted_deletion_decryption_counts_test3 = {}\n",
    "for measurement, count in raw_counts_test3.items():\n",
    "    deletion_measurement, decryption_measurement = measurement.split(\" \")\n",
    "    if deletion_measurement in accepted_certificates_test3:\n",
    "        accepted_deletion_decryption_counts_test3[decryption_measurement] = accepted_deletion_decryption_counts_test3.get(decryption_measurement, 0) + count\n",
    "\n",
    "print()\n",
    "print(\"Of the measurements where the proof of deletion was accepted, the following are the decryption statistics:\")\n",
    "decrypt_results(accepted_deletion_decryption_counts_test3, key, ciphertext, message)"
   ]
  }
 ],
 "metadata": {
  "interpreter": {
   "hash": "d73f75a98925c8700cb62ecdae3288d1b3431cce6c7bd46de19d5c767ee33bae"
  },
  "kernelspec": {
   "display_name": "Python 3.10.4 ('certified-deletion')",
   "language": "python",
   "name": "python3"
  },
  "language_info": {
   "codemirror_mode": {
    "name": "ipython",
    "version": 3
   },
   "file_extension": ".py",
   "mimetype": "text/x-python",
   "name": "python",
   "nbconvert_exporter": "python",
   "pygments_lexer": "ipython3",
   "version": "3.10.4"
  },
  "orig_nbformat": 4
 },
 "nbformat": 4,
 "nbformat_minor": 2
}
