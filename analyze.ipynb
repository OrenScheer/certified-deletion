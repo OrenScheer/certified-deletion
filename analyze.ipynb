{
 "cells": [
  {
   "cell_type": "code",
   "execution_count": null,
   "metadata": {},
   "outputs": [],
   "source": [
    "import shutil\n",
    "from experiment import Experiment"
   ]
  },
  {
   "cell_type": "code",
   "execution_count": null,
   "metadata": {},
   "outputs": [],
   "source": [
    "# Unzip files\n",
    "# shutil.unpack_archive(\"data_export.zip\", \"data\")\n",
    "# shutil.unpack_archive(\"error_correcting_codes.zip\", \"error_correcting_codes\")"
   ]
  },
  {
   "cell_type": "code",
   "execution_count": null,
   "metadata": {},
   "outputs": [],
   "source": [
    "# Process files to create an Experiment\n",
    "experiment = Experiment.reconstruct_experiment_from_folder(\"data/hamming-4-oslo/hamming-4-nairobi-8-n-40-tau-0\")\n",
    "\n",
    "print(experiment.get_experiment_info())\n",
    "\n",
    "baseline_experiment = None\n",
    "# baseline_experiment = Experiment.reconstruct_experiment_from_folder(\"data/hamming-4-oslo/hamming-4-oslo-8-n-40-tau-0\")\n",
    "if baseline_experiment:\n",
    "    print(\"\\nBaseline experiment:\")\n",
    "    print(baseline_experiment.get_experiment_info())"
   ]
  },
  {
   "cell_type": "code",
   "execution_count": null,
   "metadata": {},
   "outputs": [],
   "source": [
    "# Test 1 - honest delete\n",
    "print(experiment.run_test_1())\n",
    "\n",
    "if baseline_experiment:\n",
    "    print(\"\\nBaseline experiment:\")\n",
    "    print(baseline_experiment.run_test_1())"
   ]
  },
  {
   "cell_type": "code",
   "execution_count": null,
   "metadata": {},
   "outputs": [],
   "source": [
    "# Test 2 - decrypt\n",
    "print(experiment.run_test_2())\n",
    "\n",
    "if baseline_experiment:\n",
    "    print(\"\\nBaseline experiment:\")\n",
    "    print(baseline_experiment.run_test_2())"
   ]
  },
  {
   "cell_type": "code",
   "execution_count": null,
   "metadata": {},
   "outputs": [],
   "source": [
    "# Test 3 - honest delete and then decrypt\n",
    "print(experiment.run_test_3())\n",
    "\n",
    "if baseline_experiment:\n",
    "    print(\"\\nBaseline experiment:\")\n",
    "    print(baseline_experiment.run_test_3())"
   ]
  },
  {
   "cell_type": "code",
   "execution_count": null,
   "metadata": {},
   "outputs": [],
   "source": [
    "# Test 4 - malicious delete and then decrypt\n",
    "print(experiment.run_test_4())\n",
    "\n",
    "if baseline_experiment:\n",
    "    print(\"\\nBaseline experiment:\")\n",
    "    print(baseline_experiment.run_test_4())"
   ]
  },
  {
   "cell_type": "code",
   "execution_count": null,
   "metadata": {},
   "outputs": [],
   "source": [
    "# Test 5 - tamper detection\n",
    "print(experiment.run_test_5())\n",
    "\n",
    "if baseline_experiment:\n",
    "    print(\"\\nBaseline experiment:\")\n",
    "    print(baseline_experiment.run_test_5())"
   ]
  },
  {
   "cell_type": "code",
   "execution_count": null,
   "metadata": {},
   "outputs": [],
   "source": [
    "# Function to show results of error correction\n",
    "from decryption_circuit import decrypt_single_result\n",
    "from utils import hamming_distance\n",
    "from states import Basis\n",
    "\n",
    "def display_error_correction_results(exp: Experiment) -> None:\n",
    "    \"\"\"Prints the Hamming distances of the computational basis measurements, along with the successful decryptions per Hamming distance.\"\"\"\n",
    "    s = set(i for i in range(len(exp.encoded_in_qubits)) if exp.key.theta[i] is Basis.COMPUTATIONAL)\n",
    "    arr = []\n",
    "    for meas, count in exp.decryption_counts_test2.items():\n",
    "        success, _ = decrypt_single_result(meas, exp.key, exp.ciphertext, exp.message, exp.scheme_parameters, error_correct=True)\n",
    "        decrypt_measurement = \"\".join([meas[i] for i in range(len(meas)) if i in s])\n",
    "        expected_decrypt = \"\".join([exp.encoded_in_qubits[i] for i in range(len(exp.encoded_in_qubits)) if i in s])\n",
    "        distance = hamming_distance(decrypt_measurement, expected_decrypt)\n",
    "        arr.extend(((distance, success),) * count)\n",
    "\n",
    "    for dist in range(max([tup[0] for tup in arr])+1):\n",
    "        filtered = [tup for tup in arr if tup[0] == dist]\n",
    "        success_count = [tup[1] for tup in filtered].count(True)\n",
    "        failure_count = [tup[1] for tup in filtered].count(False)\n",
    "        if success_count > 0 or failure_count > 0:\n",
    "            print(f\"Distance {dist}: {success_count} successful, {failure_count} unsuccessful, {success_count/(success_count+failure_count)*100} percent\")"
   ]
  },
  {
   "cell_type": "code",
   "execution_count": null,
   "metadata": {},
   "outputs": [],
   "source": [
    "display_error_correction_results(experiment)\n",
    "\n",
    "if baseline_experiment:\n",
    "    print(\"\\nBaseline experiment:\")\n",
    "    display_error_correction_results(baseline_experiment)"
   ]
  },
  {
   "cell_type": "code",
   "execution_count": null,
   "metadata": {},
   "outputs": [],
   "source": [
    "def get_average_error_rate(exp: Experiment) -> float:\n",
    "    \"\"\"Returns the average error rate for measurements in the computational basis.\"\"\"\n",
    "    tot = 0\n",
    "    s = set(i for i in range(len(exp.encoded_in_qubits)) if exp.key.theta[i] is Basis.COMPUTATIONAL)\n",
    "    for meas in exp.decryption_counts_test2:\n",
    "        tot += hamming_distance(\"\".join([meas[i] for i in range(len(meas)) if i in s]), \"\".join([exp.encoded_in_qubits[i] for i in range(len(exp.encoded_in_qubits)) if i in s]))/exp.scheme_parameters.s\n",
    "    return tot/exp.experiment_properties.shots"
   ]
  },
  {
   "cell_type": "code",
   "execution_count": null,
   "metadata": {},
   "outputs": [],
   "source": [
    "print(get_average_error_rate(experiment))\n",
    "\n",
    "if baseline_experiment:\n",
    "    print(\"\\nBaseline experiment:\")\n",
    "    print(get_average_error_rate(baseline_experiment))"
   ]
  }
 ],
 "metadata": {
  "interpreter": {
   "hash": "d73f75a98925c8700cb62ecdae3288d1b3431cce6c7bd46de19d5c767ee33bae"
  },
  "kernelspec": {
   "display_name": "Python 3.10.4 ('certified-deletion')",
   "language": "python",
   "name": "python3"
  },
  "language_info": {
   "codemirror_mode": {
    "name": "ipython",
    "version": 3
   },
   "file_extension": ".py",
   "mimetype": "text/x-python",
   "name": "python",
   "nbconvert_exporter": "python",
   "pygments_lexer": "ipython3",
   "version": "3.10.4"
  },
  "orig_nbformat": 4
 },
 "nbformat": 4,
 "nbformat_minor": 2
}
