{
 "cells": [
  {
   "cell_type": "code",
   "execution_count": null,
   "metadata": {},
   "outputs": [],
   "source": [
    "from global_parameters import GlobalParameters\n",
    "from states import Key, Ciphertext\n",
    "from decryption_circuit import decrypt_results\n",
    "from verification_circuit import verify_deletion_counts\n",
    "from utils import import_counts\n",
    "from qiskit.circuit import qpy_serialization"
   ]
  },
  {
   "cell_type": "code",
   "execution_count": null,
   "metadata": {},
   "outputs": [],
   "source": [
    "with open(\"data/global_params.txt\", \"r\") as params_file, open(\"data/key.txt\", \"r\") as key_file, open(\"data/ciphertext.txt\", \"r\") as ciphertext_file, open(\"data/message.txt\", \"r\") as message_file:\n",
    "    params = GlobalParameters.from_json(params_file.read())\n",
    "    key = Key.from_json(key_file.read())\n",
    "    ciphertext = Ciphertext.from_json(ciphertext_file.read(), \"data/base_circuit.qpy\")\n",
    "    message = message_file.read()\n",
    "\n",
    "\n",
    "counts_dict = import_counts(\"data/test1-deletion-counts.csv\")\n",
    "verify_deletion_counts(counts_dict, key, params)"
   ]
  }
 ],
 "metadata": {
  "interpreter": {
   "hash": "d73f75a98925c8700cb62ecdae3288d1b3431cce6c7bd46de19d5c767ee33bae"
  },
  "kernelspec": {
   "display_name": "Python 3.10.4 ('certified-deletion')",
   "language": "python",
   "name": "python3"
  },
  "language_info": {
   "codemirror_mode": {
    "name": "ipython",
    "version": 3
   },
   "file_extension": ".py",
   "mimetype": "text/x-python",
   "name": "python",
   "nbconvert_exporter": "python",
   "pygments_lexer": "ipython3",
   "version": "3.10.4"
  },
  "orig_nbformat": 4
 },
 "nbformat": 4,
 "nbformat_minor": 2
}
