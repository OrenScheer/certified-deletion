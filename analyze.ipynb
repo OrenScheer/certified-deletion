{
 "cells": [
  {
   "cell_type": "code",
   "execution_count": 6,
   "metadata": {},
   "outputs": [],
   "source": [
    "from states import Key, Ciphertext\n",
    "from decryption_circuit import decrypt_results\n",
    "from verification_circuit import verify_deletion_counts\n",
    "from utils import import_counts"
   ]
  },
  {
   "cell_type": "code",
   "execution_count": 8,
   "metadata": {},
   "outputs": [
    {
     "name": "stdout",
     "output_type": "stream",
     "text": [
      "Accepted proof of deletion: 838/1000 (83.8%)\n",
      "Rejected proof of deletion: 162/1000 (16.2%)\n",
      "Out of the 162 rejected certificates, the following are the counts of the Hamming distances between the received certificate and the expected certificate:\n",
      "Hamming distance 1: 153\n",
      "Hamming distance 2: 9\n"
     ]
    }
   ],
   "source": [
    "counts_dict = import_counts(\"data/deletion-test.csv\")\n",
    "with open(\"data/key.txt\", \"r\") as key_file, open(\"data/ciphertext.txt\", \"r\") as ciphertext_file, open(\"data/message.txt\", \"r\") as message_file:\n",
    "    key = Key.from_json(key_file.read())\n",
    "    ciphertext = Ciphertext.from_json(ciphertext_file.read())\n",
    "    message = message_file.read()\n",
    "verify_deletion_counts(counts_dict, key)"
   ]
  }
 ],
 "metadata": {
  "interpreter": {
   "hash": "d73f75a98925c8700cb62ecdae3288d1b3431cce6c7bd46de19d5c767ee33bae"
  },
  "kernelspec": {
   "display_name": "Python 3.10.4 ('certified-deletion')",
   "language": "python",
   "name": "python3"
  },
  "language_info": {
   "codemirror_mode": {
    "name": "ipython",
    "version": 3
   },
   "file_extension": ".py",
   "mimetype": "text/x-python",
   "name": "python",
   "nbconvert_exporter": "python",
   "pygments_lexer": "ipython3",
   "version": "3.10.4"
  },
  "orig_nbformat": 4
 },
 "nbformat": 4,
 "nbformat_minor": 2
}
