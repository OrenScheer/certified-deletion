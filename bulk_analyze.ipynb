{
 "cells": [
  {
   "cell_type": "code",
   "execution_count": null,
   "metadata": {},
   "outputs": [],
   "source": [
    "import shutil\n",
    "from experiment import Experiment\n",
    "import matplotlib.pyplot as plt"
   ]
  },
  {
   "cell_type": "code",
   "execution_count": null,
   "metadata": {},
   "outputs": [],
   "source": [
    "# Unzip files\n",
    "shutil.unpack_archive(\"data_export.zip\", \"data\")"
   ]
  },
  {
   "cell_type": "code",
   "execution_count": null,
   "metadata": {},
   "outputs": [],
   "source": [
    "experiment_ids = [f\"simulator-delay-{i}\" for i in range(11)]\n",
    "experiments = [Experiment.reconstruct_experiment_from_folder(f\"data/{experiment_id}\") for experiment_id in experiment_ids]"
   ]
  },
  {
   "cell_type": "code",
   "execution_count": null,
   "metadata": {},
   "outputs": [],
   "source": [
    "y = [exp.get_test1_success_rate()*100 for exp in experiments]\n",
    "x = range(0, 11)\n",
    "\n",
    "plt.title(\"Deletion certificate acceptance rate after delay\")\n",
    "plt.xlabel(\"Delay (microseconds)\")\n",
    "plt.ylabel(\"Acceptance percentage\")\n",
    "plt.ylim(0, 100)\n",
    "plt.plot(x, y)\n",
    "plt.show()"
   ]
  },
  {
   "cell_type": "code",
   "execution_count": null,
   "metadata": {},
   "outputs": [],
   "source": [
    "y = [exp.get_test2_success_rate()*100 for exp in experiments]\n",
    "x = range(0, 11)\n",
    "plt.title(\"Decryption success rate after delay\")\n",
    "plt.xlabel(\"Delay (microseconds)\")\n",
    "plt.ylabel(\"Success percentage\")\n",
    "plt.ylim(0, 100)\n",
    "plt.plot(x, y)\n",
    "plt.show()"
   ]
  }
 ],
 "metadata": {
  "kernelspec": {
   "display_name": "Python 3.10.4 ('certified-deletion')",
   "language": "python",
   "name": "python3"
  },
  "language_info": {
   "codemirror_mode": {
    "name": "ipython",
    "version": 3
   },
   "file_extension": ".py",
   "mimetype": "text/x-python",
   "name": "python",
   "nbconvert_exporter": "python",
   "pygments_lexer": "ipython3",
   "version": "3.10.4"
  },
  "orig_nbformat": 4,
  "vscode": {
   "interpreter": {
    "hash": "d73f75a98925c8700cb62ecdae3288d1b3431cce6c7bd46de19d5c767ee33bae"
   }
  }
 },
 "nbformat": 4,
 "nbformat_minor": 2
}
