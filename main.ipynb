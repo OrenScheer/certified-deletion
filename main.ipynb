{
 "cells": [
  {
   "cell_type": "code",
   "execution_count": 1,
   "metadata": {},
   "outputs": [],
   "source": [
    "from qiskit import QuantumCircuit, transpile, execute, IBMQ\n",
    "from states import Key, Ciphertext\n",
    "from global_parameters import GlobalParameters\n",
    "from encryption_circuit import encrypt\n",
    "from verification_circuit import verify_deletion_counts\n",
    "from decryption_circuit import create_decryption_circuit, decrypt_results\n",
    "from deletion_circuit import delete\n",
    "from qiskit.providers.aer import AerSimulator\n",
    "from qiskit.test.mock import FakeMontreal"
   ]
  },
  {
   "cell_type": "code",
   "execution_count": 4,
   "metadata": {},
   "outputs": [
    {
     "name": "stderr",
     "output_type": "stream",
     "text": [
      "ibmqfactory.load_account:WARNING:2022-06-07 15:51:48,289: Credentials are already in use. The existing account in the session will be replaced.\n"
     ]
    }
   ],
   "source": [
    "# Qiskit parameters\n",
    "provider = IBMQ.load_account()\n",
    "noise_model = FakeMontreal()\n",
    "backend = AerSimulator.from_backend(noise_model)\n",
    "# backend = provider.get_backend(\"ibmq_santiago\")\n",
    "optimization_level = 1\n",
    "shots = 1000"
   ]
  },
  {
   "cell_type": "code",
   "execution_count": 8,
   "metadata": {},
   "outputs": [],
   "source": [
    "# Utility function to run a circuit, and return the result counts\n",
    "def run_and_measure(circuit: QuantumCircuit, draw: bool = False) -> dict[str, int]:\n",
    "    \"\"\"Transpiles and runs the QuantumCircuit, and returns the resulting counts of the execution.\"\"\"\n",
    "    if draw:\n",
    "        print(circuit.draw())\n",
    "    transpiled_circuit = transpile(\n",
    "        circuit, backend=backend, optimization_level=0)\n",
    "    # result = execute(transpiled_circuit, backend=backend,\n",
    "    #                  optimization_level=optimization_level, shots=1).result()\n",
    "    result = backend.run(transpiled_circuit, shots=shots).result()\n",
    "    counts = result.get_counts()\n",
    "    # Reverse the string since the most significant qubit is at the 0th index of the measurement string\n",
    "    reversed_keys_dict = {}\n",
    "    for key, value in counts.items():\n",
    "        reversed_keys_dict[key[::-1]] = value\n",
    "    return reversed_keys_dict"
   ]
  },
  {
   "cell_type": "code",
   "execution_count": 9,
   "metadata": {},
   "outputs": [],
   "source": [
    "# Encrypt \n",
    "global_params = GlobalParameters(1)\n",
    "key = Key.generate_key(global_params)\n",
    "message = \"001011\"\n",
    "ciphertext = encrypt(message, key, global_params)\n",
    "original_circuit = ciphertext.circuit.copy() # We might modify this circuit in subsequent steps"
   ]
  },
  {
   "cell_type": "code",
   "execution_count": 16,
   "metadata": {},
   "outputs": [
    {
     "name": "stdout",
     "output_type": "stream",
     "text": [
      "Accepted proof of deletion: 433/1000 (43.3%)\n",
      "Rejected proof of deletion: 567/1000 (56.699999999999996%)\n",
      "Out of the 567 rejected certificates, the following are the counts of the Hamming distances between the received certificate and the expected certificate:\n",
      "Hamming distance 1: 397\n",
      "Hamming distance 2: 134\n",
      "Hamming distance 3: 33\n",
      "Hamming distance 4: 3\n"
     ]
    }
   ],
   "source": [
    "# Test 1 - delete\n",
    "deletion_circuit = delete(ciphertext)\n",
    "deletion_counts = run_and_measure(deletion_circuit)\n",
    "verify_deletion_counts(deletion_counts, key)\n",
    "\n",
    "ciphertext.circuit = original_circuit.copy() # To make it easier to re-run cells"
   ]
  },
  {
   "cell_type": "code",
   "execution_count": 6,
   "metadata": {},
   "outputs": [
    {
     "name": "stdout",
     "output_type": "stream",
     "text": [
      "         ┌───┐┌───┐ ░ ┌───┐ ░ ┌─┐                                          \n",
      "    q_0: ┤ X ├┤ H ├─░─┤ H ├─░─┤M├──────────────────────────────────────────\n",
      "         └───┘└───┘ ░ └───┘ ░ └╥┘┌─┐                                       \n",
      "    q_1: ───────────░───────░──╫─┤M├───────────────────────────────────────\n",
      "         ┌───┐      ░ ┌───┐ ░  ║ └╥┘┌─┐                                    \n",
      "    q_2: ┤ H ├──────░─┤ H ├─░──╫──╫─┤M├────────────────────────────────────\n",
      "         └───┘      ░ └───┘ ░  ║  ║ └╥┘┌─┐                                 \n",
      "    q_3: ───────────░───────░──╫──╫──╫─┤M├─────────────────────────────────\n",
      "         ┌───┐      ░       ░  ║  ║  ║ └╥┘┌─┐                              \n",
      "    q_4: ┤ X ├──────░───────░──╫──╫──╫──╫─┤M├──────────────────────────────\n",
      "         ├───┤      ░ ┌───┐ ░  ║  ║  ║  ║ └╥┘┌─┐                           \n",
      "    q_5: ┤ H ├──────░─┤ H ├─░──╫──╫──╫──╫──╫─┤M├───────────────────────────\n",
      "         ├───┤      ░ └───┘ ░  ║  ║  ║  ║  ║ └╥┘┌─┐                        \n",
      "    q_6: ┤ X ├──────░───────░──╫──╫──╫──╫──╫──╫─┤M├────────────────────────\n",
      "         ├───┤┌───┐ ░ ┌───┐ ░  ║  ║  ║  ║  ║  ║ └╥┘┌─┐                     \n",
      "    q_7: ┤ X ├┤ H ├─░─┤ H ├─░──╫──╫──╫──╫──╫──╫──╫─┤M├─────────────────────\n",
      "         ├───┤└───┘ ░ └───┘ ░  ║  ║  ║  ║  ║  ║  ║ └╥┘┌─┐                  \n",
      "    q_8: ┤ X ├──────░───────░──╫──╫──╫──╫──╫──╫──╫──╫─┤M├──────────────────\n",
      "         └───┘      ░       ░  ║  ║  ║  ║  ║  ║  ║  ║ └╥┘┌─┐               \n",
      "    q_9: ───────────░───────░──╫──╫──╫──╫──╫──╫──╫──╫──╫─┤M├───────────────\n",
      "         ┌───┐      ░ ┌───┐ ░  ║  ║  ║  ║  ║  ║  ║  ║  ║ └╥┘┌─┐            \n",
      "   q_10: ┤ H ├──────░─┤ H ├─░──╫──╫──╫──╫──╫──╫──╫──╫──╫──╫─┤M├────────────\n",
      "         ├───┤      ░ └───┘ ░  ║  ║  ║  ║  ║  ║  ║  ║  ║  ║ └╥┘┌─┐         \n",
      "   q_11: ┤ X ├──────░───────░──╫──╫──╫──╫──╫──╫──╫──╫──╫──╫──╫─┤M├─────────\n",
      "         ├───┤      ░       ░  ║  ║  ║  ║  ║  ║  ║  ║  ║  ║  ║ └╥┘┌─┐      \n",
      "   q_12: ┤ X ├──────░───────░──╫──╫──╫──╫──╫──╫──╫──╫──╫──╫──╫──╫─┤M├──────\n",
      "         ├───┤┌───┐ ░ ┌───┐ ░  ║  ║  ║  ║  ║  ║  ║  ║  ║  ║  ║  ║ └╥┘┌─┐   \n",
      "   q_13: ┤ X ├┤ H ├─░─┤ H ├─░──╫──╫──╫──╫──╫──╫──╫──╫──╫──╫──╫──╫──╫─┤M├───\n",
      "         ├───┤├───┤ ░ ├───┤ ░  ║  ║  ║  ║  ║  ║  ║  ║  ║  ║  ║  ║  ║ └╥┘┌─┐\n",
      "   q_14: ┤ X ├┤ H ├─░─┤ H ├─░──╫──╫──╫──╫──╫──╫──╫──╫──╫──╫──╫──╫──╫──╫─┤M├\n",
      "         └───┘└───┘ ░ └───┘ ░  ║  ║  ║  ║  ║  ║  ║  ║  ║  ║  ║  ║  ║  ║ └╥┘\n",
      "meas: 15/══════════════════════╩══╩══╩══╩══╩══╩══╩══╩══╩══╩══╩══╩══╩══╩══╩═\n",
      "                               0  1  2  3  4  5  6  7  8  9  10 11 12 13 14\n",
      "Correct message decrypted: 812/1000 (81.2%)\n",
      "Incorrect message decrypted: 188/1000 (18.8%)\n"
     ]
    }
   ],
   "source": [
    "# Test 2 - decrypt\n",
    "ciphertext.circuit.barrier()\n",
    "ciphertext.circuit.delay(0, unit=\"us\")\n",
    "decryption_circuit = create_decryption_circuit(key, ciphertext)\n",
    "decryption_counts = run_and_measure(decryption_circuit)\n",
    "decrypt_results(decryption_counts, key, ciphertext, message)\n",
    "\n",
    "ciphertext.circuit = original_circuit.copy() # To make it easier to re-run cells"
   ]
  },
  {
   "cell_type": "code",
   "execution_count": 7,
   "metadata": {},
   "outputs": [
    {
     "name": "stdout",
     "output_type": "stream",
     "text": [
      "          ┌───┐┌───┐ ░ ┌───┐ ░ ┌─┐                                           ░ »\n",
      "     q_0: ┤ X ├┤ H ├─░─┤ H ├─░─┤M├───────────────────────────────────────────░─»\n",
      "          └───┘└───┘ ░ ├───┤ ░ └╥┘┌─┐                                        ░ »\n",
      "     q_1: ───────────░─┤ H ├─░──╫─┤M├────────────────────────────────────────░─»\n",
      "          ┌───┐      ░ ├───┤ ░  ║ └╥┘┌─┐                                     ░ »\n",
      "     q_2: ┤ H ├──────░─┤ H ├─░──╫──╫─┤M├─────────────────────────────────────░─»\n",
      "          └───┘      ░ ├───┤ ░  ║  ║ └╥┘┌─┐                                  ░ »\n",
      "     q_3: ───────────░─┤ H ├─░──╫──╫──╫─┤M├──────────────────────────────────░─»\n",
      "          ┌───┐      ░ ├───┤ ░  ║  ║  ║ └╥┘┌─┐                               ░ »\n",
      "     q_4: ┤ X ├──────░─┤ H ├─░──╫──╫──╫──╫─┤M├───────────────────────────────░─»\n",
      "          ├───┤      ░ ├───┤ ░  ║  ║  ║  ║ └╥┘┌─┐                            ░ »\n",
      "     q_5: ┤ H ├──────░─┤ H ├─░──╫──╫──╫──╫──╫─┤M├────────────────────────────░─»\n",
      "          ├───┤      ░ ├───┤ ░  ║  ║  ║  ║  ║ └╥┘┌─┐                         ░ »\n",
      "     q_6: ┤ X ├──────░─┤ H ├─░──╫──╫──╫──╫──╫──╫─┤M├─────────────────────────░─»\n",
      "          ├───┤┌───┐ ░ ├───┤ ░  ║  ║  ║  ║  ║  ║ └╥┘┌─┐                      ░ »\n",
      "     q_7: ┤ X ├┤ H ├─░─┤ H ├─░──╫──╫──╫──╫──╫──╫──╫─┤M├──────────────────────░─»\n",
      "          ├───┤└───┘ ░ ├───┤ ░  ║  ║  ║  ║  ║  ║  ║ └╥┘┌─┐                   ░ »\n",
      "     q_8: ┤ X ├──────░─┤ H ├─░──╫──╫──╫──╫──╫──╫──╫──╫─┤M├───────────────────░─»\n",
      "          └───┘      ░ ├───┤ ░  ║  ║  ║  ║  ║  ║  ║  ║ └╥┘┌─┐                ░ »\n",
      "     q_9: ───────────░─┤ H ├─░──╫──╫──╫──╫──╫──╫──╫──╫──╫─┤M├────────────────░─»\n",
      "          ┌───┐      ░ ├───┤ ░  ║  ║  ║  ║  ║  ║  ║  ║  ║ └╥┘┌─┐             ░ »\n",
      "    q_10: ┤ H ├──────░─┤ H ├─░──╫──╫──╫──╫──╫──╫──╫──╫──╫──╫─┤M├─────────────░─»\n",
      "          ├───┤      ░ ├───┤ ░  ║  ║  ║  ║  ║  ║  ║  ║  ║  ║ └╥┘┌─┐          ░ »\n",
      "    q_11: ┤ X ├──────░─┤ H ├─░──╫──╫──╫──╫──╫──╫──╫──╫──╫──╫──╫─┤M├──────────░─»\n",
      "          ├───┤      ░ ├───┤ ░  ║  ║  ║  ║  ║  ║  ║  ║  ║  ║  ║ └╥┘┌─┐       ░ »\n",
      "    q_12: ┤ X ├──────░─┤ H ├─░──╫──╫──╫──╫──╫──╫──╫──╫──╫──╫──╫──╫─┤M├───────░─»\n",
      "          ├───┤┌───┐ ░ ├───┤ ░  ║  ║  ║  ║  ║  ║  ║  ║  ║  ║  ║  ║ └╥┘┌─┐    ░ »\n",
      "    q_13: ┤ X ├┤ H ├─░─┤ H ├─░──╫──╫──╫──╫──╫──╫──╫──╫──╫──╫──╫──╫──╫─┤M├────░─»\n",
      "          ├───┤├───┤ ░ ├───┤ ░  ║  ║  ║  ║  ║  ║  ║  ║  ║  ║  ║  ║  ║ └╥┘┌─┐ ░ »\n",
      "    q_14: ┤ X ├┤ H ├─░─┤ H ├─░──╫──╫──╫──╫──╫──╫──╫──╫──╫──╫──╫──╫──╫──╫─┤M├─░─»\n",
      "          └───┘└───┘ ░ └───┘ ░  ║  ║  ║  ║  ║  ║  ║  ║  ║  ║  ║  ║  ║  ║ └╥┘ ░ »\n",
      " meas: 15/══════════════════════╩══╩══╩══╩══╩══╩══╩══╩══╩══╩══╩══╩══╩══╩══╩════»\n",
      "                                0  1  2  3  4  5  6  7  8  9  10 11 12 13 14   »\n",
      "meas0: 15/═════════════════════════════════════════════════════════════════════»\n",
      "                                                                               »\n",
      "«          ┌───┐ ░ ┌─┐                                          \n",
      "«     q_0: ┤ H ├─░─┤M├──────────────────────────────────────────\n",
      "«          └───┘ ░ └╥┘┌─┐                                       \n",
      "«     q_1: ──────░──╫─┤M├───────────────────────────────────────\n",
      "«          ┌───┐ ░  ║ └╥┘┌─┐                                    \n",
      "«     q_2: ┤ H ├─░──╫──╫─┤M├────────────────────────────────────\n",
      "«          └───┘ ░  ║  ║ └╥┘┌─┐                                 \n",
      "«     q_3: ──────░──╫──╫──╫─┤M├─────────────────────────────────\n",
      "«                ░  ║  ║  ║ └╥┘┌─┐                              \n",
      "«     q_4: ──────░──╫──╫──╫──╫─┤M├──────────────────────────────\n",
      "«          ┌───┐ ░  ║  ║  ║  ║ └╥┘┌─┐                           \n",
      "«     q_5: ┤ H ├─░──╫──╫──╫──╫──╫─┤M├───────────────────────────\n",
      "«          └───┘ ░  ║  ║  ║  ║  ║ └╥┘┌─┐                        \n",
      "«     q_6: ──────░──╫──╫──╫──╫──╫──╫─┤M├────────────────────────\n",
      "«          ┌───┐ ░  ║  ║  ║  ║  ║  ║ └╥┘┌─┐                     \n",
      "«     q_7: ┤ H ├─░──╫──╫──╫──╫──╫──╫──╫─┤M├─────────────────────\n",
      "«          └───┘ ░  ║  ║  ║  ║  ║  ║  ║ └╥┘┌─┐                  \n",
      "«     q_8: ──────░──╫──╫──╫──╫──╫──╫──╫──╫─┤M├──────────────────\n",
      "«                ░  ║  ║  ║  ║  ║  ║  ║  ║ └╥┘┌─┐               \n",
      "«     q_9: ──────░──╫──╫──╫──╫──╫──╫──╫──╫──╫─┤M├───────────────\n",
      "«          ┌───┐ ░  ║  ║  ║  ║  ║  ║  ║  ║  ║ └╥┘┌─┐            \n",
      "«    q_10: ┤ H ├─░──╫──╫──╫──╫──╫──╫──╫──╫──╫──╫─┤M├────────────\n",
      "«          └───┘ ░  ║  ║  ║  ║  ║  ║  ║  ║  ║  ║ └╥┘┌─┐         \n",
      "«    q_11: ──────░──╫──╫──╫──╫──╫──╫──╫──╫──╫──╫──╫─┤M├─────────\n",
      "«                ░  ║  ║  ║  ║  ║  ║  ║  ║  ║  ║  ║ └╥┘┌─┐      \n",
      "«    q_12: ──────░──╫──╫──╫──╫──╫──╫──╫──╫──╫──╫──╫──╫─┤M├──────\n",
      "«          ┌───┐ ░  ║  ║  ║  ║  ║  ║  ║  ║  ║  ║  ║  ║ └╥┘┌─┐   \n",
      "«    q_13: ┤ H ├─░──╫──╫──╫──╫──╫──╫──╫──╫──╫──╫──╫──╫──╫─┤M├───\n",
      "«          ├───┤ ░  ║  ║  ║  ║  ║  ║  ║  ║  ║  ║  ║  ║  ║ └╥┘┌─┐\n",
      "«    q_14: ┤ H ├─░──╫──╫──╫──╫──╫──╫──╫──╫──╫──╫──╫──╫──╫──╫─┤M├\n",
      "«          └───┘ ░  ║  ║  ║  ║  ║  ║  ║  ║  ║  ║  ║  ║  ║  ║ └╥┘\n",
      "« meas: 15/═════════╬══╬══╬══╬══╬══╬══╬══╬══╬══╬══╬══╬══╬══╬══╬═\n",
      "«                   ║  ║  ║  ║  ║  ║  ║  ║  ║  ║  ║  ║  ║  ║  ║ \n",
      "«meas0: 15/═════════╩══╩══╩══╩══╩══╩══╩══╩══╩══╩══╩══╩══╩══╩══╩═\n",
      "«                   0  1  2  3  4  5  6  7  8  9  10 11 12 13 14\n",
      "Accepted proof of deletion: 849/1000 (84.89999999999999%)\n",
      "Rejected proof of deletion: 151/1000 (15.1%)\n",
      "Out of the 151 rejected certificates, the following are the counts of the Hamming distances between the received certificate and the expected certificate:\n",
      "Hamming distance 1: 145\n",
      "Hamming distance 2: 6\n",
      "Correct message decrypted: 34/1000 (3.4000000000000004%)\n",
      "Incorrect message decrypted: 966/1000 (96.6%)\n"
     ]
    }
   ],
   "source": [
    "# Test 3 - delete and then decrypt\n",
    "deletion_circuit = delete(ciphertext)\n",
    "ciphertext.circuit = deletion_circuit # To use the new circuit as the starting point of the decryption circuit\n",
    "decryption_circuit = create_decryption_circuit(key, ciphertext)\n",
    "counts = run_and_measure(decryption_circuit)\n",
    "deletion_counts = {}\n",
    "decryption_counts = {}\n",
    "for measurement, count in counts.items():\n",
    "    # Qiskit will return a space-separated string of the two measurements. \n",
    "    # run_and_measure will reverse the string so that the first substring is the first measurement.\n",
    "    deletion, decryption = measurement.split(\" \")\n",
    "    deletion_counts[deletion] = deletion_counts.get(deletion, 0) + count\n",
    "    decryption_counts[decryption] = decryption_counts.get(decryption, 0) + count\n",
    "verify_deletion_counts(deletion_counts, key)\n",
    "decrypt_results(decryption_counts, key, ciphertext, message)\n",
    "\n",
    "ciphertext.circuit = original_circuit.copy() # To make it easier to re-run cells"
   ]
  }
 ],
 "metadata": {
  "interpreter": {
   "hash": "d73f75a98925c8700cb62ecdae3288d1b3431cce6c7bd46de19d5c767ee33bae"
  },
  "kernelspec": {
   "display_name": "Python 3.10.4 ('certified-deletion')",
   "language": "python",
   "name": "python3"
  },
  "language_info": {
   "codemirror_mode": {
    "name": "ipython",
    "version": 3
   },
   "file_extension": ".py",
   "mimetype": "text/x-python",
   "name": "python",
   "nbconvert_exporter": "python",
   "pygments_lexer": "ipython3",
   "version": "3.10.4"
  },
  "orig_nbformat": 4
 },
 "nbformat": 4,
 "nbformat_minor": 2
}
